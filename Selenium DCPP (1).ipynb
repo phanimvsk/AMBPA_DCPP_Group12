{
 "cells": [
  {
   "cell_type": "code",
   "execution_count": 2,
   "id": "341e5a35",
   "metadata": {},
   "outputs": [],
   "source": [
    "from lxml import html \n",
    "from urllib.error import HTTPError\n",
    "from selenium import webdriver\n",
    "from selenium.webdriver.common.keys import Keys\n",
    "from selenium.webdriver.common.action_chains import ActionChains\n",
    "\n",
    "from selenium.webdriver.support.ui import Select\n",
    "import time\n",
    "import pandas as pd"
   ]
  },
  {
   "cell_type": "code",
   "execution_count": 38,
   "id": "006fd909",
   "metadata": {},
   "outputs": [],
   "source": [
    "def mainfun(pin_loop,outdf):\n",
    "    \n",
    "    row_final = []\n",
    "    #petrol_list = []\n",
    "    #diesel_list = []\n",
    "    #rate_list = []\n",
    "    petrol = ''\n",
    "    diesel = ''\n",
    "    rate = 0.0\n",
    "    try:\n",
    "        #element=driver.find_element_by_xpath(\"//input[@class='submit']\")\n",
    "        element=driver.find_element_by_xpath(\"//input[@name='pincode']\")\n",
    "        element.click()\n",
    "        element.send_keys(pin_loop)\n",
    "        time.sleep(5)\n",
    "        element=driver.find_element_by_xpath(\"//input[@name='submit']\")\n",
    "        element.click()\n",
    "        petrol = driver.find_element_by_xpath(\"//h4/../table//tr[2]/td\")\n",
    "        diesel = driver.find_element_by_xpath(\"//h4/../table//tr[3]/td\")\n",
    "        rate = driver.find_element_by_xpath(\"//h4/../table//tr[9]/td\")\n",
    "    except:\n",
    "        driver.get( \"https://www.petroldieselprice.com/search-petrol-diesel-price-with-postal-pincode\")\n",
    "        return\n",
    "        \n",
    "    row_final = [pin_loop,petrol.text,diesel.text,rate.text]\n",
    "    #print(row_final)\n",
    "    #dict1 = zip(varlist,row_final)\n",
    "    #dict2 = dict(dict1)\n",
    "    \n",
    "    new_dict = {varlist: row_final for varlist,\n",
    "            row_final in zip(varlist, row_final)}\n",
    "    \n",
    "    outdf.loc[len(outdf.index)] = new_dict\n",
    "    #print(new_dict)\n",
    "    return"
   ]
  },
  {
   "cell_type": "code",
   "execution_count": 41,
   "id": "8ab1f317",
   "metadata": {},
   "outputs": [
    {
     "name": "stderr",
     "output_type": "stream",
     "text": [
      "c:\\users\\kavish jhaveri\\appdata\\local\\programs\\python\\python37-32\\lib\\site-packages\\ipykernel_launcher.py:10: DeprecationWarning: executable_path has been deprecated, please pass in a Service object\n",
      "  # Remove the CWD from sys.path while we load stuff.\n"
     ]
    },
    {
     "name": "stdout",
     "output_type": "stream",
     "text": [
      "583131 : 0\n"
     ]
    },
    {
     "name": "stderr",
     "output_type": "stream",
     "text": [
      "c:\\users\\kavish jhaveri\\appdata\\local\\programs\\python\\python37-32\\lib\\site-packages\\ipykernel_launcher.py:12: DeprecationWarning: find_element_by_* commands are deprecated. Please use find_element() instead\n",
      "  if sys.path[0] == '':\n",
      "c:\\users\\kavish jhaveri\\appdata\\local\\programs\\python\\python37-32\\lib\\site-packages\\ipykernel_launcher.py:16: DeprecationWarning: find_element_by_* commands are deprecated. Please use find_element() instead\n",
      "  app.launch_new_instance()\n",
      "c:\\users\\kavish jhaveri\\appdata\\local\\programs\\python\\python37-32\\lib\\site-packages\\ipykernel_launcher.py:18: DeprecationWarning: find_element_by_* commands are deprecated. Please use find_element() instead\n",
      "c:\\users\\kavish jhaveri\\appdata\\local\\programs\\python\\python37-32\\lib\\site-packages\\ipykernel_launcher.py:19: DeprecationWarning: find_element_by_* commands are deprecated. Please use find_element() instead\n",
      "c:\\users\\kavish jhaveri\\appdata\\local\\programs\\python\\python37-32\\lib\\site-packages\\ipykernel_launcher.py:20: DeprecationWarning: find_element_by_* commands are deprecated. Please use find_element() instead\n"
     ]
    },
    {
     "name": "stdout",
     "output_type": "stream",
     "text": [
      "[583131, 'Rs. 115.57 Per Litre', 'Rs. 104.12 Per Litre', '0.03']\n",
      "{'Postal Code': 583131, 'Petrol_Price': 'Rs. 115.57 Per Litre', 'Diesel Price': 'Rs. 104.12 Per Litre', 'Rate_Addition': '0.03'}\n",
      "583202 : 1\n",
      "583203 : 2\n",
      "[583203, 'Rs. 115.85 Per Litre', 'Rs. 104.59 Per Litre', '0.03']\n",
      "{'Postal Code': 583203, 'Petrol_Price': 'Rs. 115.85 Per Litre', 'Diesel Price': 'Rs. 104.59 Per Litre', 'Rate_Addition': '0.03'}\n",
      "583211 : 3\n",
      "[583211, 'Rs. 115.85 Per Litre', 'Rs. 104.59 Per Litre', '0.02']\n",
      "{'Postal Code': 583211, 'Petrol_Price': 'Rs. 115.85 Per Litre', 'Diesel Price': 'Rs. 104.59 Per Litre', 'Rate_Addition': '0.02'}\n",
      "585241 : 4\n",
      "585290 : 5\n",
      "[585290, 'Rs. 113.83 Per Litre', 'Rs. 102.73 Per Litre', '0.01']\n",
      "{'Postal Code': 585290, 'Petrol_Price': 'Rs. 113.83 Per Litre', 'Diesel Price': 'Rs. 102.73 Per Litre', 'Rate_Addition': '0.01'}\n",
      "585347 : 6\n",
      "591136 : 7\n",
      "602004 : 8\n",
      "602021 : 9\n",
      "[602021, 'Rs. 104.92 Per Litre', 'Rs. 100.99 Per Litre', '0.02']\n",
      "{'Postal Code': 602021, 'Petrol_Price': 'Rs. 104.92 Per Litre', 'Diesel Price': 'Rs. 100.99 Per Litre', 'Rate_Addition': '0.02'}\n",
      "602027 : 10\n",
      "  Postal Code          Petrol_Price          Diesel Price Rate_Addition\n",
      "0      583131  Rs. 115.57 Per Litre  Rs. 104.12 Per Litre          0.03\n",
      "1      583203  Rs. 115.85 Per Litre  Rs. 104.59 Per Litre          0.03\n",
      "2      583211  Rs. 115.85 Per Litre  Rs. 104.59 Per Litre          0.02\n",
      "3      585290  Rs. 113.83 Per Litre  Rs. 102.73 Per Litre          0.01\n",
      "4      602021  Rs. 104.92 Per Litre  Rs. 100.99 Per Litre          0.02\n"
     ]
    }
   ],
   "source": [
    "data = pd.read_csv('E:/ISB/Term 1/DC/Indian_pincodes.csv')\n",
    "postlist = (data['pin_code'])\n",
    "\n",
    "varlist = ['Postal Code','Petrol_Price','Diesel Price','Rate_Addition']\n",
    "\n",
    "outdf = pd.DataFrame(columns = varlist)\n",
    "\n",
    "limit = 0\n",
    "\n",
    "driver = webdriver.Chrome('C:\\\\Users\\\\Kavish Jhaveri\\\\Downloads\\\\chromedriver_win32\\\\chromedriver.exe')\n",
    "driver.get( \"https://www.petroldieselprice.com/search-petrol-diesel-price-with-postal-pincode\")\n",
    "\n",
    "for pin_loop in postlist:\n",
    "\n",
    "    print(str(pin_loop) + \" : \" + str(limit))\n",
    "    limit = limit + 1\n",
    "    #### change the value below to limit the loop ####\n",
    "    if limit > 10:\n",
    "        break;\n",
    "        \n",
    "    mainfun(pin_loop,outdf)\n",
    "    \n",
    "#print(outdf)\n",
    "writer = pd.ExcelWriter('E:/ISB/Term 1/DC/pincodebank_final.xlsx', engine='xlsxwriter')\n",
    "outdf.to_excel(writer,sheet_name = 'Sheet1', index=False)\n",
    "writer.save() "
   ]
  },
  {
   "cell_type": "code",
   "execution_count": 42,
   "id": "fd4a1f47",
   "metadata": {},
   "outputs": [],
   "source": []
  },
  {
   "cell_type": "code",
   "execution_count": null,
   "id": "f89cb8a9",
   "metadata": {},
   "outputs": [],
   "source": []
  }
 ],
 "metadata": {
  "kernelspec": {
   "display_name": "Python 3 (ipykernel)",
   "language": "python",
   "name": "python3"
  },
  "language_info": {
   "codemirror_mode": {
    "name": "ipython",
    "version": 3
   },
   "file_extension": ".py",
   "mimetype": "text/x-python",
   "name": "python",
   "nbconvert_exporter": "python",
   "pygments_lexer": "ipython3",
   "version": "3.7.0"
  }
 },
 "nbformat": 4,
 "nbformat_minor": 5
}
